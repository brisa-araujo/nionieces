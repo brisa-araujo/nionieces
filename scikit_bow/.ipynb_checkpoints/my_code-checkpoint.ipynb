{
 "cells": [
  {
   "cell_type": "code",
   "execution_count": 1,
   "metadata": {},
   "outputs": [],
   "source": [
    "#import libraries\n",
    "import os\n",
    "import pandas as pd\n",
    "from sklearn.feature_extraction.text import CountVectorizer"
   ]
  },
  {
   "cell_type": "code",
   "execution_count": 2,
   "metadata": {},
   "outputs": [],
   "source": [
    "#define array of paths\n",
    "docs = ['doc1.txt', 'doc2.txt', 'doc3.txt']"
   ]
  },
  {
   "cell_type": "code",
   "execution_count": 3,
   "metadata": {},
   "outputs": [],
   "source": [
    "#open and clean docs\n",
    "docs_open = [open(e, \"r\") for e in docs]\n",
    "corpus = [f.read() for f in docs_open]"
   ]
  },
  {
   "cell_type": "code",
   "execution_count": 7,
   "metadata": {},
   "outputs": [
    {
     "name": "stdout",
     "output_type": "stream",
     "text": [
      "{'ironhack': 3, 'is': 4, 'cool': 2, 'love': 5, 'am': 0, 'student': 6, 'at': 1}\n"
     ]
    }
   ],
   "source": [
    "#create the transform\n",
    "vectorizer = CountVectorizer()\n",
    "\n",
    "#tokenize and build vocab\n",
    "vectorizer.fit(corpus)\n",
    "\n",
    "#unique words, blacklist already excluded\n",
    "print(vectorizer.vocabulary_)\n",
    "\n",
    "#encode document\n",
    "bow = vectorizer.transform(corpus)"
   ]
  },
  {
   "cell_type": "code",
   "execution_count": 5,
   "metadata": {},
   "outputs": [
    {
     "name": "stdout",
     "output_type": "stream",
     "text": [
      "(3, 7)\n",
      "<class 'scipy.sparse.csr.csr_matrix'>\n",
      "[[0 0 1 1 1 0 0]\n",
      " [0 0 0 1 0 1 0]\n",
      " [1 1 0 1 0 0 1]]\n"
     ]
    }
   ],
   "source": [
    "#summarize encoded vector\n",
    "print(bow.shape)\n",
    "print(type(bow))\n",
    "print(bow.toarray())"
   ]
  },
  {
   "cell_type": "code",
   "execution_count": null,
   "metadata": {},
   "outputs": [],
   "source": []
  }
 ],
 "metadata": {
  "kernelspec": {
   "display_name": "Python 3",
   "language": "python",
   "name": "python3"
  },
  "language_info": {
   "codemirror_mode": {
    "name": "ipython",
    "version": 3
   },
   "file_extension": ".py",
   "mimetype": "text/x-python",
   "name": "python",
   "nbconvert_exporter": "python",
   "pygments_lexer": "ipython3",
   "version": "3.7.3"
  }
 },
 "nbformat": 4,
 "nbformat_minor": 2
}
